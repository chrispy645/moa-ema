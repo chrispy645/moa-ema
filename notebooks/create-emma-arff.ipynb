{
 "cells": [
  {
   "cell_type": "code",
   "execution_count": 125,
   "metadata": {
    "collapsed": true
   },
   "outputs": [],
   "source": [
    "import nltk\n",
    "import json"
   ]
  },
  {
   "cell_type": "code",
   "execution_count": 3,
   "metadata": {
    "collapsed": false
   },
   "outputs": [
    {
     "name": "stdout",
     "output_type": "stream",
     "text": [
      "showing info http://nltk.github.com/nltk_data/\n"
     ]
    },
    {
     "data": {
      "text/plain": [
       "True"
      ]
     },
     "execution_count": 3,
     "metadata": {},
     "output_type": "execute_result"
    }
   ],
   "source": [
    "nltk.download()"
   ]
  },
  {
   "cell_type": "code",
   "execution_count": 13,
   "metadata": {
    "collapsed": false
   },
   "outputs": [
    {
     "data": {
      "text/plain": [
       "[u'austen-emma.txt',\n",
       " u'austen-persuasion.txt',\n",
       " u'austen-sense.txt',\n",
       " u'bible-kjv.txt',\n",
       " u'blake-poems.txt',\n",
       " u'bryant-stories.txt',\n",
       " u'burgess-busterbrown.txt',\n",
       " u'carroll-alice.txt',\n",
       " u'chesterton-ball.txt',\n",
       " u'chesterton-brown.txt',\n",
       " u'chesterton-thursday.txt',\n",
       " u'edgeworth-parents.txt',\n",
       " u'melville-moby_dick.txt',\n",
       " u'milton-paradise.txt',\n",
       " u'shakespeare-caesar.txt',\n",
       " u'shakespeare-hamlet.txt',\n",
       " u'shakespeare-macbeth.txt',\n",
       " u'whitman-leaves.txt']"
      ]
     },
     "execution_count": 13,
     "metadata": {},
     "output_type": "execute_result"
    }
   ],
   "source": [
    "nltk.corpus.gutenberg.fileids()"
   ]
  },
  {
   "cell_type": "code",
   "execution_count": 14,
   "metadata": {
    "collapsed": false
   },
   "outputs": [],
   "source": [
    "emma = nltk.corpus.gutenberg.words('austen-emma.txt')"
   ]
  },
  {
   "cell_type": "code",
   "execution_count": 8,
   "metadata": {
    "collapsed": false
   },
   "outputs": [
    {
     "name": "stdout",
     "output_type": "stream",
     "text": [
      "hel l och\n",
      "ell o chr\n",
      "llo c hri\n",
      "loc h ris\n"
     ]
    }
   ],
   "source": [
    "c = 0\n",
    "st = \"hellochris\"\n",
    "ctx = 3\n",
    "for i in range(ctx, len(st)-ctx):\n",
    "    print st[i-ctx:i], st[i], st[i+1:i+ctx+1]"
   ]
  },
  {
   "cell_type": "code",
   "execution_count": 9,
   "metadata": {
    "collapsed": true
   },
   "outputs": [],
   "source": [
    "def get_vals(corpus):\n",
    "    for i in range(ctx, len(corpus)-ctx):\n",
    "        yield (corpus[i-ctx:i], corpus[i], corpus[i+1:i+ctx+1])"
   ]
  },
  {
   "cell_type": "code",
   "execution_count": 196,
   "metadata": {
    "collapsed": false
   },
   "outputs": [
    {
     "name": "stdout",
     "output_type": "stream",
     "text": [
      "[u'Austen', u'1816', u']']\n"
     ]
    }
   ],
   "source": [
    "for tp in get_vals(emma):\n",
    "    right = tp[2]\n",
    "    print right\n",
    "    break"
   ]
  },
  {
   "cell_type": "code",
   "execution_count": 197,
   "metadata": {
    "collapsed": false
   },
   "outputs": [],
   "source": [
    "dd = dict()\n",
    "c = 0\n",
    "limit = 0\n",
    "instances = []\n",
    "attr_names = []\n",
    "class_vals = set()\n",
    "for tp in get_vals(emma):\n",
    "    left = tp[0]\n",
    "    for i in range(0, len(left)):\n",
    "        left[i] = \"left%i_%s\" % (i, left[i])\n",
    "    mid = tp[1]\n",
    "    class_vals.add(mid)\n",
    "    right = tp[2]\n",
    "    for i in range(0, len(right)):\n",
    "        right[i] = \"right%i_%s\" % (i, right[i])\n",
    "    for k, elem in enumerate(left):\n",
    "        if elem not in dd:\n",
    "            dd[elem] = c\n",
    "            attr_names.append(elem)\n",
    "            c += 1\n",
    "    if mid not in dd:\n",
    "        dd[mid] = c\n",
    "        #attr_names.append(\"mid_%s\" % mid)\n",
    "        c += 1\n",
    "    for k, elem in enumerate(right):\n",
    "        if elem not in dd:\n",
    "            dd[elem] = c\n",
    "            attr_names.append(elem)\n",
    "            c += 1\n",
    "    inst = []\n",
    "    for elem in set(left+right):\n",
    "        inst.append( dd[elem] )\n",
    "    inst = sorted(inst)\n",
    "    inst.append(mid)\n",
    "    #instances.append( stringify(inst, attr_names) )\n",
    "    instances.append(inst)\n",
    "    limit += 1\n",
    "    if limit == 100000:\n",
    "        break"
   ]
  },
  {
   "cell_type": "code",
   "execution_count": 198,
   "metadata": {
    "collapsed": true
   },
   "outputs": [],
   "source": [
    "def stringify(indices, class_idx, attr_names):\n",
    "    st = \"{\"\n",
    "    for i in range(0, len(indices)):\n",
    "        x = str(indices[i])\n",
    "        if i == len(indices)-1:\n",
    "            #x = json.dumps(attr_names[ indices[i] ])\n",
    "            x = json.dumps(indices[i])\n",
    "            st += str(class_idx) + \" \" + x\n",
    "        else:\n",
    "            st += ( x + \" 1\" )\n",
    "        if i != len(indices)-1:\n",
    "            st += \",\"\n",
    "    st += \"}\"\n",
    "    return st"
   ]
  },
  {
   "cell_type": "code",
   "execution_count": 204,
   "metadata": {
    "collapsed": false
   },
   "outputs": [
    {
     "data": {
      "text/plain": [
       "34504"
      ]
     },
     "execution_count": 204,
     "metadata": {},
     "output_type": "execute_result"
    }
   ],
   "source": [
    "class_idx = len(attr_names)\n",
    "class_idx"
   ]
  },
  {
   "cell_type": "code",
   "execution_count": 205,
   "metadata": {
    "collapsed": false
   },
   "outputs": [],
   "source": [
    "string_instances = []\n",
    "n = 0\n",
    "for instance in instances:\n",
    "    string_instances.append( stringify(instance, class_idx, attr_names) )\n",
    "    n += 1"
   ]
  },
  {
   "cell_type": "code",
   "execution_count": 140,
   "metadata": {
    "collapsed": false
   },
   "outputs": [
    {
     "data": {
      "text/plain": [
       "[u'Emma', u'I', u'Woodhouse', u',', u'handsome', u'clever', u',']"
      ]
     },
     "execution_count": 140,
     "metadata": {},
     "output_type": "execute_result"
    }
   ],
   "source": [
    "[ attr_names[elem] for elem in instances[10] ]"
   ]
  },
  {
   "cell_type": "code",
   "execution_count": 115,
   "metadata": {
    "collapsed": false
   },
   "outputs": [
    {
     "data": {
      "text/plain": [
       "u'{4 1,5 1,6 1,8 1,9 1,413 \"VOLUME\"}'"
      ]
     },
     "execution_count": 115,
     "metadata": {},
     "output_type": "execute_result"
    }
   ],
   "source": [
    "string_instances[4]"
   ]
  },
  {
   "cell_type": "code",
   "execution_count": 206,
   "metadata": {
    "collapsed": false
   },
   "outputs": [],
   "source": [
    "header = []\n",
    "for attr_name in attr_names:\n",
    "    header.append(\"@attribute %s {0,1}\" % ( json.dumps(attr_name) ) )\n",
    "header.append(\"@attribute class_attr {%s}\" % \",\".join( [(json.dumps(x)) for x in class_vals] ) )"
   ]
  },
  {
   "cell_type": "code",
   "execution_count": 207,
   "metadata": {
    "collapsed": false
   },
   "outputs": [],
   "source": [
    "g = open(\"emma.arff\", \"wb\")\n",
    "g.write(\"@relation emma\\n\")\n",
    "g.write(\"\\n\".join(header) + \"\\n\")\n",
    "g.write(\"@data\\n\")\n",
    "g.write(\"\\n\".join(string_instances))\n",
    "g.close()"
   ]
  },
  {
   "cell_type": "code",
   "execution_count": 180,
   "metadata": {
    "collapsed": false
   },
   "outputs": [
    {
     "data": {
      "text/plain": [
       "True"
      ]
     },
     "execution_count": 180,
     "metadata": {},
     "output_type": "execute_result"
    }
   ],
   "source": [
    "\"mid_Jane\" in attr_names"
   ]
  },
  {
   "cell_type": "code",
   "execution_count": null,
   "metadata": {
    "collapsed": true
   },
   "outputs": [],
   "source": []
  }
 ],
 "metadata": {
  "kernelspec": {
   "display_name": "Python 2",
   "language": "python",
   "name": "python2"
  },
  "language_info": {
   "codemirror_mode": {
    "name": "ipython",
    "version": 2
   },
   "file_extension": ".py",
   "mimetype": "text/x-python",
   "name": "python",
   "nbconvert_exporter": "python",
   "pygments_lexer": "ipython2",
   "version": "2.7.9"
  }
 },
 "nbformat": 4,
 "nbformat_minor": 0
}
